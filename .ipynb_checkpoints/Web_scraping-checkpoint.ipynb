{
 "cells": [
  {
   "cell_type": "markdown",
   "metadata": {},
   "source": [
    "# Webscraping the data\n",
    "\n",
    "* This notebook is concerned with introducing our project as well as acquiring all the data needed to answer the reseach questions\n",
    "\n",
    "\n",
    "### Contents :\n",
    "\n",
    "#### Introduction\n",
    "\n",
    "#### Import Libraries\n",
    "\n",
    "#### Scrape data for LSE university acommodations\n",
    "\n",
    "#### Scrape data for King's College London  acommodations\n",
    "\n",
    "#### Scrape data for LSE private acommodations\n",
    "\n",
    "#### Scrape data for Warwick University acommodations\n",
    "\n",
    "#### Convert dataframes into csv files\n",
    "\n",
    "###### Following this the questions will be answers in separate notebook for clarity purposes\n",
    "* In the notebooks that answer the question we will focus more on : any further preparation for data analysis needed, data analysis and conclusion, which would consist of answering the question\n",
    "\n"
   ]
  },
  {
   "cell_type": "markdown",
   "metadata": {},
   "source": [
    "### Introduction\n",
    "\n",
    "The motivation of our research project is to assess how good LSE accomodation is.The reason we chose this is because as students at LSE we believe accomodation is a key aspect of a student's life, as well as allowing us to help fellow students create a well informed decision on where to stay during their time at university. \n",
    "\n",
    "Our main research questions to answer are : \n",
    "\n",
    "* 1) How does the university accommodation cost at LSE vary? \n",
    "* 2) Is it better to have private accommodation or uni accommodation at LSE? \n",
    "* 3) What’s LSE accommodation like compared to KCL?\n",
    "* 4) What’s the lse accommodation like relative to Warwick university? \n",
    "\n",
    "\n"
   ]
  },
  {
   "cell_type": "markdown",
   "metadata": {},
   "source": [
    "### Import Libraries"
   ]
  },
  {
   "cell_type": "code",
   "execution_count": 1,
   "metadata": {},
   "outputs": [],
   "source": [
    "import requests\n",
    "from bs4 import BeautifulSoup\n",
    "import pandas as pd\n",
    "import re\n",
    "#!pip install geopy\n",
    "from geopy.distance import geodesic\n",
    "from geopy.geocoders import Nominatim\n",
    "import os\n"
   ]
  },
  {
   "cell_type": "markdown",
   "metadata": {
    "id": "qYANGB84Q161"
   },
   "source": [
    "### Scrape data for LSE university acommodations\n",
    "\n",
    "First, we'll gather the data from here: https://www.lse.ac.uk/student-life/accommodation/apply/types-of-contracts-halls-and-rooms\n",
    "\n",
    "The links are stored in a table under a tab. We will used the header of the tables to determine which type of students the accomodation is for.\n",
    "\n",
    "\n",
    "Next, we will also get the links for the individual pages, which we'll collect the rest of the data from\n"
   ]
  },
  {
   "cell_type": "code",
   "execution_count": 2,
   "metadata": {
    "id": "51eh7MrKQ_I3"
   },
   "outputs": [],
   "source": [
    "url = \"https://www.lse.ac.uk/student-life/accommodation/apply/types-of-contracts-halls-and-rooms\"\n",
    "\n",
    "response = requests.get(url)\n",
    "soup = BeautifulSoup(response.text, \"html.parser\")\n",
    "\n",
    "# Find the parent element that contains the table\n",
    "accordion_content = soup.find('div', class_='accordion__content')\n",
    "\n",
    "# Find the table within the accordion content\n",
    "table = accordion_content.find('table')"
   ]
  },
  {
   "cell_type": "code",
   "execution_count": 3,
   "metadata": {
    "id": "mVtZ9BafJLJ2"
   },
   "outputs": [],
   "source": [
    "# Initialize dictionaries for undergraduate (UG), graduate (PG), and mixed accommodation (MIX)\n",
    "UG = []\n",
    "PG = []\n",
    "MIX = []\n",
    "links = []\n",
    "# Find all table headers\n",
    "headers = table.find_all('th')\n",
    "\n",
    "# Get the text content of each header\n",
    "header_texts = [header.text.strip() for header in headers]\n",
    "\n",
    "\n",
    "rows = table.find_all('tr')\n",
    "for row in rows:\n",
    "    table_data = row.find_all('td')\n",
    "    for index, element in enumerate(table_data):\n",
    "        cells = element.find_all('a')\n",
    "        for  cell in cells:\n",
    "            link = 'https://www.lse.ac.uk/'+ cell.get('href')\n",
    "            links.append(link)\n",
    "            title = cell.get('title')\n",
    "\n",
    "            if header_texts[index] == 'Undergraduate only halls':\n",
    "                UG.append(title)\n",
    "            elif header_texts[index] == 'Graduate only halls':\n",
    "                PG.append(title)\n",
    "            elif header_texts[index] == 'Mixed halls':\n",
    "                MIX.append(title)\n"
   ]
  },
  {
   "cell_type": "code",
   "execution_count": 4,
   "metadata": {
    "id": "XYcVF3-QFwE_"
   },
   "outputs": [],
   "source": [
    "header = ['accom name','Student Level (UG/PG/mixed)', 'distance by foot','distance by bike','distance by public transport','Bed Size(D/S)','Bathroom Type(S/P)', 'Distance (km)' ,'price']\n",
    "df_lse = pd.DataFrame(columns=header)"
   ]
  },
  {
   "cell_type": "code",
   "execution_count": 5,
   "metadata": {
    "id": "pf2RHZGHcDfL"
   },
   "outputs": [],
   "source": [
    "def shorten_bed_name(room_name): #Single(S) or Double(D)\n",
    "  if 'single' in room_name.lower() and 'queen' not in room_name.lower(): #lets count queen as double \n",
    "    return 'S'\n",
    "\n",
    "  else:\n",
    "    return 'D'\n",
    "\n",
    "def shorten_bath_name(bath_name): #Private(P) or Shared(S)\n",
    "  if 'private' in bath_name.lower():\n",
    "    return 'P'\n",
    "  else:\n",
    "    return 'S'"
   ]
  },
  {
   "cell_type": "code",
   "execution_count": 6,
   "metadata": {
    "id": "ZyPGLb_HVHmV"
   },
   "outputs": [],
   "source": [
    "for link in links:\n",
    "  response = requests.get(link)\n",
    "\n",
    "  soup = BeautifulSoup(response.text, \"html.parser\")\n",
    "\n",
    "  accom_name = soup.find('h1', class_='heroBanner__title').get_text()\n",
    "\n",
    "  page_content = soup.find('article', class_='pageContent accommContent')\n",
    "  page_content = str(page_content)\n",
    "\n",
    "  #distance by foot/bike/public transport are all within the text on the page, not in seperate classes\n",
    "  #we'll have to look for these specific words on the page using string manipulation\n",
    "  #First let's get the index of where these words start\n",
    "\n",
    "  index_foot = page_content.find('On foot')\n",
    "  index_bike = page_content.find('By bike')\n",
    "  index_pt = page_content.find('By public transport')\n",
    "  level = 'PG' if accom_name in PG else ('UG' if accom_name in UG else 'mixed')\n",
    "\n",
    "\n",
    "  #Now lets look for the specific times using the index\n",
    "  foot_time = page_content[index_foot:].split('<br/>')[0].split(':')[1].split()[0]\n",
    "  bike_time = page_content[index_bike:].split('<br/>')[0].split(':')[1].split()[0]\n",
    "  pt_time = page_content[index_pt:].split('<br/>')[0].split(':')[1].split()[0]\n",
    "\n",
    "  #lets also get the distance from the campus\n",
    "  distance = soup.find('div', class_='accommKeyDetails__dist').get_text()\n",
    "  distance = distance.split(':')[1].split('km')[0].strip()\n",
    "\n",
    "  all_rooms = soup.find('ul', class_='roomlist').find_all('li', class_='roomlist__room')\n",
    "  rooms_data = str(all_rooms).split(\"</li>\")\n",
    "\n",
    "  # Loop through each room data\n",
    "  for room_data in rooms_data:\n",
    "    if len(room_data) > 1: #for some reason we get ']' as one of the elements in rooms_data, lets ignore this\n",
    "\n",
    "      string_room_data = str(room_data)\n",
    "\n",
    "      bed_size = shorten_bed_name(string_room_data)\n",
    "\n",
    "\n",
    "\n",
    "      # Find room position\n",
    "      position_start = room_data.find('class=\"roomlist__position\">') + len('class=\"roomlist__position\">')\n",
    "      position_end = room_data.find('</p>', position_start)\n",
    "      bathroom_type = room_data[position_start:position_end].strip()\n",
    "      bathroom_type = shorten_bath_name(bathroom_type)\n",
    "\n",
    "      # Find room price\n",
    "      price_start = room_data.find('roomataGlance__figure\">') + len('roomataGlance__figure\">')\n",
    "      price_end = room_data.find('<span class=\"roomataGlance__freq\">', price_start)\n",
    "      room_price = room_data[price_start:price_end].strip()\n",
    "\n",
    "      if '-' in room_price: #sometimes there is a range of prices\n",
    "        lower_price = room_price.split('<br/>')[0].split('-')[0].strip()\n",
    "        higher_price = room_price.split('<br/>')[1].split('</span>')[1].strip()\n",
    "\n",
    "        room_price = round((float(lower_price) + float(higher_price)) / 2, 2)\n",
    "\n",
    "\n",
    "\n",
    "      list_append = [accom_name,level,foot_time, bike_time, pt_time, bed_size, bathroom_type,distance,room_price]\n",
    "      df_lse.loc[len(df_lse.index)] = list_append\n"
   ]
  },
  {
   "cell_type": "code",
   "execution_count": 7,
   "metadata": {
    "colab": {
     "base_uri": "https://localhost:8080/",
     "height": 206
    },
    "id": "aG-XNP97FuHC",
    "outputId": "f30f8cd6-0e52-4aa2-a049-add82dfbfa02"
   },
   "outputs": [
    {
     "data": {
      "text/html": [
       "<div>\n",
       "<style scoped>\n",
       "    .dataframe tbody tr th:only-of-type {\n",
       "        vertical-align: middle;\n",
       "    }\n",
       "\n",
       "    .dataframe tbody tr th {\n",
       "        vertical-align: top;\n",
       "    }\n",
       "\n",
       "    .dataframe thead th {\n",
       "        text-align: right;\n",
       "    }\n",
       "</style>\n",
       "<table border=\"1\" class=\"dataframe\">\n",
       "  <thead>\n",
       "    <tr style=\"text-align: right;\">\n",
       "      <th></th>\n",
       "      <th>accom name</th>\n",
       "      <th>Student Level (UG/PG/mixed)</th>\n",
       "      <th>distance by foot</th>\n",
       "      <th>distance by bike</th>\n",
       "      <th>distance by public transport</th>\n",
       "      <th>Bed Size(D/S)</th>\n",
       "      <th>Bathroom Type(S/P)</th>\n",
       "      <th>Distance (km)</th>\n",
       "      <th>price</th>\n",
       "    </tr>\n",
       "  </thead>\n",
       "  <tbody>\n",
       "    <tr>\n",
       "      <th>0</th>\n",
       "      <td>Bankside House</td>\n",
       "      <td>UG</td>\n",
       "      <td>27</td>\n",
       "      <td>13</td>\n",
       "      <td>24</td>\n",
       "      <td>S</td>\n",
       "      <td>S</td>\n",
       "      <td>1.5</td>\n",
       "      <td>259.70</td>\n",
       "    </tr>\n",
       "    <tr>\n",
       "      <th>1</th>\n",
       "      <td>Bankside House</td>\n",
       "      <td>UG</td>\n",
       "      <td>27</td>\n",
       "      <td>13</td>\n",
       "      <td>24</td>\n",
       "      <td>S</td>\n",
       "      <td>P</td>\n",
       "      <td>1.5</td>\n",
       "      <td>287.17</td>\n",
       "    </tr>\n",
       "    <tr>\n",
       "      <th>2</th>\n",
       "      <td>Bankside House</td>\n",
       "      <td>UG</td>\n",
       "      <td>27</td>\n",
       "      <td>13</td>\n",
       "      <td>24</td>\n",
       "      <td>S</td>\n",
       "      <td>P</td>\n",
       "      <td>1.5</td>\n",
       "      <td>176.93</td>\n",
       "    </tr>\n",
       "    <tr>\n",
       "      <th>3</th>\n",
       "      <td>Butler's Wharf Residence</td>\n",
       "      <td>PG</td>\n",
       "      <td>51</td>\n",
       "      <td>22</td>\n",
       "      <td>34</td>\n",
       "      <td>S</td>\n",
       "      <td>S</td>\n",
       "      <td>3.2</td>\n",
       "      <td>231.0</td>\n",
       "    </tr>\n",
       "    <tr>\n",
       "      <th>4</th>\n",
       "      <td>Butler's Wharf Residence</td>\n",
       "      <td>PG</td>\n",
       "      <td>51</td>\n",
       "      <td>22</td>\n",
       "      <td>34</td>\n",
       "      <td>S</td>\n",
       "      <td>S</td>\n",
       "      <td>3.2</td>\n",
       "      <td>140.53</td>\n",
       "    </tr>\n",
       "  </tbody>\n",
       "</table>\n",
       "</div>"
      ],
      "text/plain": [
       "                 accom name Student Level (UG/PG/mixed) distance by foot  \\\n",
       "0            Bankside House                          UG               27   \n",
       "1            Bankside House                          UG               27   \n",
       "2            Bankside House                          UG               27   \n",
       "3  Butler's Wharf Residence                          PG               51   \n",
       "4  Butler's Wharf Residence                          PG               51   \n",
       "\n",
       "  distance by bike distance by public transport Bed Size(D/S)  \\\n",
       "0               13                           24             S   \n",
       "1               13                           24             S   \n",
       "2               13                           24             S   \n",
       "3               22                           34             S   \n",
       "4               22                           34             S   \n",
       "\n",
       "  Bathroom Type(S/P) Distance (km)   price  \n",
       "0                  S           1.5  259.70  \n",
       "1                  P           1.5  287.17  \n",
       "2                  P           1.5  176.93  \n",
       "3                  S           3.2   231.0  \n",
       "4                  S           3.2  140.53  "
      ]
     },
     "execution_count": 7,
     "metadata": {},
     "output_type": "execute_result"
    }
   ],
   "source": [
    "df_lse.head()"
   ]
  },
  {
   "cell_type": "markdown",
   "metadata": {},
   "source": [
    "df_uni:\n",
    "* name\n",
    "* Student Level (UG/PG/mixed) - UG means undergraduate, PG means postgraduate, mixed means both\n",
    "* ditance columns are all the time taken to get from the accomodation to the LSE campus \n",
    "* Bed Size(D/S) - D stands for double size bed, S stands for single bed \n",
    "* Bathroom Type(S/P) - S stands for shared bathroom and P stands for private bathroom\n",
    "* Distance (km) - is the same as walking distance from the accomodation to the LSE campus\n",
    "* price - the weekly price in pounds"
   ]
  },
  {
   "cell_type": "code",
   "execution_count": 8,
   "metadata": {},
   "outputs": [
    {
     "data": {
      "text/plain": [
       "accom name                      0\n",
       "Student Level (UG/PG/mixed)     0\n",
       "distance by foot                0\n",
       "distance by bike                0\n",
       "distance by public transport    0\n",
       "Bed Size(D/S)                   0\n",
       "Bathroom Type(S/P)              0\n",
       "Distance (km)                   0\n",
       "price                           0\n",
       "dtype: int64"
      ]
     },
     "execution_count": 8,
     "metadata": {},
     "output_type": "execute_result"
    }
   ],
   "source": [
    "#Check to see if there is missing data\n",
    "df_lse.isna().sum()"
   ]
  },
  {
   "cell_type": "markdown",
   "metadata": {
    "id": "TISh0GbdvlRk"
   },
   "source": [
    "### Scrape data for King's College London  acommodations\n",
    "\n",
    "Lets repeat for KCL accomodation. We will get our data from https://www.kcl.ac.uk/accommodation/undergraduate and https://www.kcl.ac.uk/accommodation/postgraduate\n",
    "\n",
    "\n",
    "Note, on the postgraduate page, it shows us the accomodations which are only available for the PG students but also the ones which are availble to both (i.e. mixed)"
   ]
  },
  {
   "cell_type": "markdown",
   "metadata": {},
   "source": [
    "Create a list for the links and add the undergraduate accomodations first"
   ]
  },
  {
   "cell_type": "code",
   "execution_count": 9,
   "metadata": {
    "id": "yRIEmCb2vphS"
   },
   "outputs": [],
   "source": [
    "links = []\n",
    "\n",
    "\n",
    "url = \"https://www.kcl.ac.uk/accommodation/undergraduate\"\n",
    "\n",
    "\n",
    "response = requests.get(url)\n",
    "soup = BeautifulSoup(response.text, \"html.parser\")\n",
    "\n",
    "all_accom = soup.find_all('div', class_='col-xs-12 col-sm-4 col-lg-3')\n",
    "\n",
    "for accom in all_accom:\n",
    "  link = accom.find('a')\n",
    "  link = link.get('href')\n",
    "  links.append(link)"
   ]
  },
  {
   "cell_type": "code",
   "execution_count": 10,
   "metadata": {
    "id": "_lfW40kd5f_M"
   },
   "outputs": [],
   "source": [
    "links = links[:-4] #ignore the last 4 links as they are not related to the accomodations"
   ]
  },
  {
   "cell_type": "markdown",
   "metadata": {
    "id": "YEH0pD7yB3zR"
   },
   "source": [
    "Now lets also add to the list the Postgraduate accomodations (PG)"
   ]
  },
  {
   "cell_type": "code",
   "execution_count": 11,
   "metadata": {
    "id": "-T1P4mnJB2jF"
   },
   "outputs": [],
   "source": [
    "url = \"https://www.kcl.ac.uk/accommodation/postgraduate\"\n",
    "mixed_accom_name = []\n",
    "\n",
    "\n",
    "response = requests.get(url)\n",
    "soup = BeautifulSoup(response.text, \"html.parser\")\n",
    "\n",
    "PG_accom = soup.find_all('div', class_='col')\n",
    "mixed_accom = soup.find_all('div', class_='col-xs-12 col-sm-4')\n",
    "\n",
    "# Iterate through each accommodation div\n",
    "for accom in PG_accom:\n",
    "    # Find the anchor tag within the div\n",
    "    link = accom.find('a')\n",
    "    link = link.get('href')\n",
    "    links.append(link)\n",
    "\n",
    "for accom in mixed_accom:\n",
    "    # Find the anchor tag within the div\n",
    "    link = accom.find('a')\n",
    "    accom_name = link.get('title') if link else None\n",
    "    mixed_accom_name.append(accom_name)"
   ]
  },
  {
   "cell_type": "code",
   "execution_count": 12,
   "metadata": {
    "id": "SLJjuIsz5XOv"
   },
   "outputs": [],
   "source": [
    "header = ['accom name','Student Level (UG/PG/mixed)','Bed Size(D/S)','Bathroom Type(S/P)', 'price']\n",
    "df_kings = pd.DataFrame(columns=header)"
   ]
  },
  {
   "cell_type": "code",
   "execution_count": 13,
   "metadata": {
    "id": "tTSm6Zvl5BPD"
   },
   "outputs": [],
   "source": [
    "list_append = []\n",
    "\n",
    "for link in links:\n",
    "    response = requests.get(link)\n",
    "    soup = BeautifulSoup(response.text, \"html.parser\")\n",
    "\n",
    "    # Extract accommodation name\n",
    "    accom_name = soup.find('div', class_='block--hero__text').get_text().strip()\n",
    "\n",
    "    # Determine level (UG or PG)\n",
    "    level = 'PG' if'Postgraduate' in accom_name else ('mixed' if accom_name in mixed_accom_name else'UG')\n",
    "\n",
    "    # Extract table content\n",
    "    table = soup.find('div', class_='tab-pane tab-pane--border fade').find('table')\n",
    "    rows = table.find_all('tr')[1:]  # Skip the first two rows\n",
    "\n",
    "\n",
    "    # Parse table rows\n",
    "    for row in rows:\n",
    "        columns = row.find_all('td')\n",
    "        #print(columns)\n",
    "        bed_size = columns[2].get_text().strip().split('x')[0].strip().strip('cm')\n",
    "        bed_size = 'D' if int(str(bed_size)) >= 120 else 'S'\n",
    "\n",
    "        bathroom_type = str(columns[0].get_text()).lower()\n",
    "        #bathroom_type = 'P' if 'ensuite' in str(columns[1].get_text()).lower() else 'S'\n",
    "\n",
    "        if ('ensuite' in bathroom_type or 'studio' in bathroom_type) and'non-ensuite' not in bathroom_type:\n",
    "          bathroom_type = 'P'  # Ensuite\n",
    "        else:\n",
    "          bathroom_type = 'S'\n",
    "\n",
    "        room_price = columns[3].get_text().strip('£')\n",
    "\n",
    "        # Append data to the list\n",
    "        list_append.append([accom_name, level, bed_size, bathroom_type, room_price])\n",
    "\n",
    "        list_append = [accom_name, level,bed_size, bathroom_type, room_price]\n",
    "        df_kings.loc[len(df_kings.index)] = list_append"
   ]
  },
  {
   "cell_type": "code",
   "execution_count": 14,
   "metadata": {
    "colab": {
     "base_uri": "https://localhost:8080/",
     "height": 1000
    },
    "id": "jUOnsMvgfnBR",
    "outputId": "da2a2ab7-f642-43b5-b71a-044a22c9f4ff"
   },
   "outputs": [
    {
     "data": {
      "text/html": [
       "<div>\n",
       "<style scoped>\n",
       "    .dataframe tbody tr th:only-of-type {\n",
       "        vertical-align: middle;\n",
       "    }\n",
       "\n",
       "    .dataframe tbody tr th {\n",
       "        vertical-align: top;\n",
       "    }\n",
       "\n",
       "    .dataframe thead th {\n",
       "        text-align: right;\n",
       "    }\n",
       "</style>\n",
       "<table border=\"1\" class=\"dataframe\">\n",
       "  <thead>\n",
       "    <tr style=\"text-align: right;\">\n",
       "      <th></th>\n",
       "      <th>accom name</th>\n",
       "      <th>Student Level (UG/PG/mixed)</th>\n",
       "      <th>Bed Size(D/S)</th>\n",
       "      <th>Bathroom Type(S/P)</th>\n",
       "      <th>price</th>\n",
       "    </tr>\n",
       "  </thead>\n",
       "  <tbody>\n",
       "    <tr>\n",
       "      <th>0</th>\n",
       "      <td>Angel Lane</td>\n",
       "      <td>mixed</td>\n",
       "      <td>D</td>\n",
       "      <td>P</td>\n",
       "      <td>163.00</td>\n",
       "    </tr>\n",
       "    <tr>\n",
       "      <th>1</th>\n",
       "      <td>Angel Lane</td>\n",
       "      <td>mixed</td>\n",
       "      <td>D</td>\n",
       "      <td>P</td>\n",
       "      <td>268.00</td>\n",
       "    </tr>\n",
       "    <tr>\n",
       "      <th>2</th>\n",
       "      <td>Angel Lane</td>\n",
       "      <td>mixed</td>\n",
       "      <td>D</td>\n",
       "      <td>P</td>\n",
       "      <td>268.00</td>\n",
       "    </tr>\n",
       "    <tr>\n",
       "      <th>3</th>\n",
       "      <td>Angel Lane</td>\n",
       "      <td>mixed</td>\n",
       "      <td>D</td>\n",
       "      <td>P</td>\n",
       "      <td>268.00</td>\n",
       "    </tr>\n",
       "    <tr>\n",
       "      <th>4</th>\n",
       "      <td>Angel Lane</td>\n",
       "      <td>mixed</td>\n",
       "      <td>D</td>\n",
       "      <td>P</td>\n",
       "      <td>394.00</td>\n",
       "    </tr>\n",
       "  </tbody>\n",
       "</table>\n",
       "</div>"
      ],
      "text/plain": [
       "   accom name Student Level (UG/PG/mixed) Bed Size(D/S) Bathroom Type(S/P)  \\\n",
       "0  Angel Lane                       mixed             D                  P   \n",
       "1  Angel Lane                       mixed             D                  P   \n",
       "2  Angel Lane                       mixed             D                  P   \n",
       "3  Angel Lane                       mixed             D                  P   \n",
       "4  Angel Lane                       mixed             D                  P   \n",
       "\n",
       "    price  \n",
       "0  163.00  \n",
       "1  268.00  \n",
       "2  268.00  \n",
       "3  268.00  \n",
       "4  394.00  "
      ]
     },
     "execution_count": 14,
     "metadata": {},
     "output_type": "execute_result"
    }
   ],
   "source": [
    "df_kings.head()"
   ]
  },
  {
   "cell_type": "markdown",
   "metadata": {},
   "source": [
    "df_kings:\n",
    "\n",
    "* accom name\n",
    "* Student Level (UG/PG/mixed)-UG means undergraduate, PG means postgraduate, mixed means both\n",
    "* Bed Size(D/S) - D means double and S stands for single \n",
    "* Bathroom Type(S/P) - S means studio and P means non-ensuite\n",
    "* price"
   ]
  },
  {
   "cell_type": "code",
   "execution_count": 15,
   "metadata": {},
   "outputs": [
    {
     "data": {
      "text/plain": [
       "accom name                     0\n",
       "Student Level (UG/PG/mixed)    0\n",
       "Bed Size(D/S)                  0\n",
       "Bathroom Type(S/P)             0\n",
       "price                          0\n",
       "dtype: int64"
      ]
     },
     "execution_count": 15,
     "metadata": {},
     "output_type": "execute_result"
    }
   ],
   "source": [
    "#Check to see if there is missing data\n",
    "df_kings.isna().sum()"
   ]
  },
  {
   "cell_type": "markdown",
   "metadata": {
    "id": "4u3PdZAhMgBx"
   },
   "source": [
    "### Scrape data for LSE private acommodations\n",
    "\n",
    "Scrape data from: \"https://www.studentcrowd.com/best-halls-l1055195-s1008323-the_london_school_of_economics_and_political_science-central-london\" \n",
    "\n",
    "\n"
   ]
  },
  {
   "cell_type": "code",
   "execution_count": 16,
   "metadata": {
    "id": "dTryAPVwMpVE"
   },
   "outputs": [],
   "source": [
    "#the url we will scrape from and initialise a list to store the accomodation urls\n",
    "page_url = \"https://www.studentcrowd.com/best-halls-l1055195-s1008323-the_london_school_of_economics_and_political_science-central-london\"\n",
    "base_url = \"https://www.studentcrowd.com/\"\n",
    "accom_urls = []\n",
    "\n",
    "response = requests.get(page_url)\n",
    "\n",
    "if response.status_code == 200:\n",
    "    soup1 = BeautifulSoup(response.text, \"html.parser\")\n",
    "    container = soup1.find(\"ul\", class_=\"tw-mt-8 tw-mx-0 tw-mb-0 list-style--none\")\n",
    "\n",
    "    if container:\n",
    "        for li in container.find_all(\"li\"):\n",
    "            a_tag = li.find(\"a\")\n",
    "            if a_tag and a_tag.has_attr(\"href\"):\n",
    "                accom_urls.append(base_url+a_tag[\"href\"])\n",
    "else:\n",
    "    print(\"Failed to retrieve the web page\")"
   ]
  },
  {
   "cell_type": "code",
   "execution_count": 17,
   "metadata": {
    "colab": {
     "base_uri": "https://localhost:8080/",
     "height": 1000
    },
    "id": "3AvpRLbiMr26",
    "outputId": "a80c1d24-07e5-422d-fd49-8069dbb3ba0e"
   },
   "outputs": [
    {
     "data": {
      "text/html": [
       "<div>\n",
       "<style scoped>\n",
       "    .dataframe tbody tr th:only-of-type {\n",
       "        vertical-align: middle;\n",
       "    }\n",
       "\n",
       "    .dataframe tbody tr th {\n",
       "        vertical-align: top;\n",
       "    }\n",
       "\n",
       "    .dataframe thead th {\n",
       "        text-align: right;\n",
       "    }\n",
       "</style>\n",
       "<table border=\"1\" class=\"dataframe\">\n",
       "  <thead>\n",
       "    <tr style=\"text-align: right;\">\n",
       "      <th></th>\n",
       "      <th>name</th>\n",
       "      <th>price</th>\n",
       "      <th>rating</th>\n",
       "      <th>postcode</th>\n",
       "    </tr>\n",
       "  </thead>\n",
       "  <tbody>\n",
       "    <tr>\n",
       "      <th>0</th>\n",
       "      <td>Bloomsbury Janet Poole House</td>\n",
       "      <td>£405.00</td>\n",
       "      <td>4.54</td>\n",
       "      <td>WC1E 6AA</td>\n",
       "    </tr>\n",
       "    <tr>\n",
       "      <th>1</th>\n",
       "      <td>Grosvenor House</td>\n",
       "      <td>£569.00</td>\n",
       "      <td>4.52</td>\n",
       "      <td>WC2B 5TB</td>\n",
       "    </tr>\n",
       "    <tr>\n",
       "      <th>2</th>\n",
       "      <td>East Central House</td>\n",
       "      <td>£349.00</td>\n",
       "      <td>4.35</td>\n",
       "      <td>EC1V 3RH</td>\n",
       "    </tr>\n",
       "    <tr>\n",
       "      <th>3</th>\n",
       "      <td>Elizabeth Croll House</td>\n",
       "      <td>£399.00</td>\n",
       "      <td>4.26</td>\n",
       "      <td>WC1X 9EJ</td>\n",
       "    </tr>\n",
       "    <tr>\n",
       "      <th>4</th>\n",
       "      <td>Camden Hawley Crescent</td>\n",
       "      <td>£554.00</td>\n",
       "      <td>4.23</td>\n",
       "      <td>NW1 8NP</td>\n",
       "    </tr>\n",
       "  </tbody>\n",
       "</table>\n",
       "</div>"
      ],
      "text/plain": [
       "                           name    price rating  postcode\n",
       "0  Bloomsbury Janet Poole House  £405.00   4.54  WC1E 6AA\n",
       "1               Grosvenor House  £569.00   4.52  WC2B 5TB\n",
       "2            East Central House  £349.00   4.35  EC1V 3RH\n",
       "3         Elizabeth Croll House  £399.00   4.26  WC1X 9EJ\n",
       "4        Camden Hawley Crescent  £554.00   4.23   NW1 8NP"
      ]
     },
     "execution_count": 17,
     "metadata": {},
     "output_type": "execute_result"
    }
   ],
   "source": [
    "\n",
    "accom_info=[]\n",
    "\n",
    "for url in accom_urls:\n",
    "    page = requests.get(url)\n",
    "    soup = BeautifulSoup(page.content, \"html.parser\")\n",
    "\n",
    "    rating = soup.find(class_=\"rating-value__score\").get_text()\n",
    "    name = soup.find(class_=\"mb-\").get_text().replace(\" Reviews\",\"\")\n",
    "    postcode = soup.find(itemprop=\"postalCode\").get_text()\n",
    "    price_raw = soup.find(text=lambda t: \"Price from\" in t).parent.find_next_sibling().get_text() if soup.find(text=lambda t: \"Price from\" in t) else \"not found\"\n",
    "    price_match = re.search(r\"£\\d+\\.\\d{2}\", price_raw)\n",
    "    price = price_match.group() if price_match else \"Not Found\"\n",
    "\n",
    "\n",
    "    accom_info.append([name,price,rating,postcode])\n",
    "\n",
    "\n",
    "lse_private_accom_df= pd.DataFrame(accom_info,columns=[\"name\",\"price\",\"rating\",\"postcode\"])\n",
    "\n",
    "\n",
    "lse_private_accom_df.head()"
   ]
  },
  {
   "cell_type": "code",
   "execution_count": 18,
   "metadata": {
    "id": "dM0uqA-IMwvS"
   },
   "outputs": [],
   "source": [
    "#create a function to convert the postcode into distances from the LSE campus, WC2A 3PH being the LSE postcode\n",
    "def calculate_walking_distance(origin):\n",
    "    geolocator = Nominatim(user_agent=\"walking_distance_calculator\")\n",
    "    origin_location = geolocator.geocode(origin)\n",
    "    destination_location = geolocator.geocode(\"WC2A 3PH\")\n",
    "\n",
    "    if origin_location is None or destination_location is None:\n",
    "        return None\n",
    "\n",
    "    origin_coords = (origin_location.latitude, origin_location.longitude)\n",
    "    destination_coords = (destination_location.latitude, destination_location.longitude)\n",
    "\n",
    "    distance = geodesic(origin_coords, destination_coords).kilometers\n",
    "    return distance"
   ]
  },
  {
   "cell_type": "code",
   "execution_count": 19,
   "metadata": {
    "colab": {
     "base_uri": "https://localhost:8080/",
     "height": 1000
    },
    "id": "7H161G-CM-UG",
    "outputId": "9fa4e41a-9e0f-418e-cb50-a5309be1362a"
   },
   "outputs": [
    {
     "data": {
      "text/html": [
       "<div>\n",
       "<style scoped>\n",
       "    .dataframe tbody tr th:only-of-type {\n",
       "        vertical-align: middle;\n",
       "    }\n",
       "\n",
       "    .dataframe tbody tr th {\n",
       "        vertical-align: top;\n",
       "    }\n",
       "\n",
       "    .dataframe thead th {\n",
       "        text-align: right;\n",
       "    }\n",
       "</style>\n",
       "<table border=\"1\" class=\"dataframe\">\n",
       "  <thead>\n",
       "    <tr style=\"text-align: right;\">\n",
       "      <th></th>\n",
       "      <th>name</th>\n",
       "      <th>price</th>\n",
       "      <th>rating</th>\n",
       "      <th>postcode</th>\n",
       "      <th>walking_distance</th>\n",
       "    </tr>\n",
       "  </thead>\n",
       "  <tbody>\n",
       "    <tr>\n",
       "      <th>0</th>\n",
       "      <td>Bloomsbury Janet Poole House</td>\n",
       "      <td>£405.00</td>\n",
       "      <td>4.54</td>\n",
       "      <td>WC1E 6AA</td>\n",
       "      <td>1.489944</td>\n",
       "    </tr>\n",
       "    <tr>\n",
       "      <th>1</th>\n",
       "      <td>Grosvenor House</td>\n",
       "      <td>£569.00</td>\n",
       "      <td>4.52</td>\n",
       "      <td>WC2B 5TB</td>\n",
       "      <td>0.462801</td>\n",
       "    </tr>\n",
       "    <tr>\n",
       "      <th>2</th>\n",
       "      <td>East Central House</td>\n",
       "      <td>£349.00</td>\n",
       "      <td>4.35</td>\n",
       "      <td>EC1V 3RH</td>\n",
       "      <td>1.871750</td>\n",
       "    </tr>\n",
       "    <tr>\n",
       "      <th>3</th>\n",
       "      <td>Elizabeth Croll House</td>\n",
       "      <td>£399.00</td>\n",
       "      <td>4.26</td>\n",
       "      <td>WC1X 9EJ</td>\n",
       "      <td>NaN</td>\n",
       "    </tr>\n",
       "    <tr>\n",
       "      <th>4</th>\n",
       "      <td>Camden Hawley Crescent</td>\n",
       "      <td>£554.00</td>\n",
       "      <td>4.23</td>\n",
       "      <td>NW1 8NP</td>\n",
       "      <td>3.430531</td>\n",
       "    </tr>\n",
       "  </tbody>\n",
       "</table>\n",
       "</div>"
      ],
      "text/plain": [
       "                           name    price rating  postcode  walking_distance\n",
       "0  Bloomsbury Janet Poole House  £405.00   4.54  WC1E 6AA          1.489944\n",
       "1               Grosvenor House  £569.00   4.52  WC2B 5TB          0.462801\n",
       "2            East Central House  £349.00   4.35  EC1V 3RH          1.871750\n",
       "3         Elizabeth Croll House  £399.00   4.26  WC1X 9EJ               NaN\n",
       "4        Camden Hawley Crescent  £554.00   4.23   NW1 8NP          3.430531"
      ]
     },
     "execution_count": 19,
     "metadata": {},
     "output_type": "execute_result"
    }
   ],
   "source": [
    "lse_private_accom_df[\"walking_distance\"] = lse_private_accom_df[\"postcode\"].apply(calculate_walking_distance)\n",
    "\n",
    "lse_private_accom_df.head()\n"
   ]
  },
  {
   "cell_type": "code",
   "execution_count": 20,
   "metadata": {
    "colab": {
     "base_uri": "https://localhost:8080/",
     "height": 1000
    },
    "id": "KssJnB2hNA_1",
    "outputId": "15cf4e09-38d5-4d71-df87-d8758367850e"
   },
   "outputs": [
    {
     "data": {
      "text/html": [
       "<div>\n",
       "<style scoped>\n",
       "    .dataframe tbody tr th:only-of-type {\n",
       "        vertical-align: middle;\n",
       "    }\n",
       "\n",
       "    .dataframe tbody tr th {\n",
       "        vertical-align: top;\n",
       "    }\n",
       "\n",
       "    .dataframe thead th {\n",
       "        text-align: right;\n",
       "    }\n",
       "</style>\n",
       "<table border=\"1\" class=\"dataframe\">\n",
       "  <thead>\n",
       "    <tr style=\"text-align: right;\">\n",
       "      <th></th>\n",
       "      <th>name</th>\n",
       "      <th>price</th>\n",
       "      <th>rating</th>\n",
       "      <th>postcode</th>\n",
       "      <th>walking_distance</th>\n",
       "    </tr>\n",
       "  </thead>\n",
       "  <tbody>\n",
       "    <tr>\n",
       "      <th>0</th>\n",
       "      <td>Bloomsbury Janet Poole House</td>\n",
       "      <td>£405.00</td>\n",
       "      <td>4.54</td>\n",
       "      <td>WC1E 6AA</td>\n",
       "      <td>1.489944</td>\n",
       "    </tr>\n",
       "    <tr>\n",
       "      <th>1</th>\n",
       "      <td>Grosvenor House</td>\n",
       "      <td>£569.00</td>\n",
       "      <td>4.52</td>\n",
       "      <td>WC2B 5TB</td>\n",
       "      <td>0.462801</td>\n",
       "    </tr>\n",
       "    <tr>\n",
       "      <th>2</th>\n",
       "      <td>East Central House</td>\n",
       "      <td>£349.00</td>\n",
       "      <td>4.35</td>\n",
       "      <td>EC1V 3RH</td>\n",
       "      <td>1.871750</td>\n",
       "    </tr>\n",
       "    <tr>\n",
       "      <th>3</th>\n",
       "      <td>Elizabeth Croll House</td>\n",
       "      <td>£399.00</td>\n",
       "      <td>4.26</td>\n",
       "      <td>WC1X 9EJ</td>\n",
       "      <td>NaN</td>\n",
       "    </tr>\n",
       "    <tr>\n",
       "      <th>4</th>\n",
       "      <td>Camden Hawley Crescent</td>\n",
       "      <td>£554.00</td>\n",
       "      <td>4.23</td>\n",
       "      <td>NW1 8NP</td>\n",
       "      <td>3.430531</td>\n",
       "    </tr>\n",
       "  </tbody>\n",
       "</table>\n",
       "</div>"
      ],
      "text/plain": [
       "                           name    price rating  postcode  walking_distance\n",
       "0  Bloomsbury Janet Poole House  £405.00   4.54  WC1E 6AA          1.489944\n",
       "1               Grosvenor House  £569.00   4.52  WC2B 5TB          0.462801\n",
       "2            East Central House  £349.00   4.35  EC1V 3RH          1.871750\n",
       "3         Elizabeth Croll House  £399.00   4.26  WC1X 9EJ               NaN\n",
       "4        Camden Hawley Crescent  £554.00   4.23   NW1 8NP          3.430531"
      ]
     },
     "execution_count": 20,
     "metadata": {},
     "output_type": "execute_result"
    }
   ],
   "source": [
    "# remove duplicate data, as some LSE accomodation appears in the private accomodation list\n",
    "\n",
    "names_to_remove = df_lse[\"accom name\"].unique()\n",
    "lse_private_accom_df_filtered = lse_private_accom_df[~lse_private_accom_df[\"name\"].isin(names_to_remove)]\n",
    "\n",
    "lse_private_accom_df_filtered.head()"
   ]
  },
  {
   "cell_type": "code",
   "execution_count": 21,
   "metadata": {
    "colab": {
     "base_uri": "https://localhost:8080/"
    },
    "id": "w4qa4hlrNDgE",
    "outputId": "698cca07-f9ad-49f2-d0c2-4b1b0fe5483e"
   },
   "outputs": [
    {
     "data": {
      "text/plain": [
       "name                0\n",
       "price               0\n",
       "rating              0\n",
       "postcode            0\n",
       "walking_distance    1\n",
       "dtype: int64"
      ]
     },
     "execution_count": 21,
     "metadata": {},
     "output_type": "execute_result"
    }
   ],
   "source": [
    "#checking to see if there is missing data\n",
    "lse_private_accom_df_filtered.isna().sum()"
   ]
  },
  {
   "cell_type": "code",
   "execution_count": 22,
   "metadata": {
    "colab": {
     "base_uri": "https://localhost:8080/",
     "height": 959
    },
    "id": "j1QdHZE3NFUb",
    "outputId": "7e708a3e-ab0c-4043-dc33-ef783986e517"
   },
   "outputs": [
    {
     "data": {
      "text/html": [
       "<div>\n",
       "<style scoped>\n",
       "    .dataframe tbody tr th:only-of-type {\n",
       "        vertical-align: middle;\n",
       "    }\n",
       "\n",
       "    .dataframe tbody tr th {\n",
       "        vertical-align: top;\n",
       "    }\n",
       "\n",
       "    .dataframe thead th {\n",
       "        text-align: right;\n",
       "    }\n",
       "</style>\n",
       "<table border=\"1\" class=\"dataframe\">\n",
       "  <thead>\n",
       "    <tr style=\"text-align: right;\">\n",
       "      <th></th>\n",
       "      <th>name</th>\n",
       "      <th>price</th>\n",
       "      <th>rating</th>\n",
       "      <th>postcode</th>\n",
       "      <th>walking_distance</th>\n",
       "    </tr>\n",
       "  </thead>\n",
       "  <tbody>\n",
       "    <tr>\n",
       "      <th>0</th>\n",
       "      <td>Bloomsbury Janet Poole House</td>\n",
       "      <td>£405.00</td>\n",
       "      <td>4.54</td>\n",
       "      <td>WC1E 6AA</td>\n",
       "      <td>1.489944</td>\n",
       "    </tr>\n",
       "    <tr>\n",
       "      <th>1</th>\n",
       "      <td>Grosvenor House</td>\n",
       "      <td>£569.00</td>\n",
       "      <td>4.52</td>\n",
       "      <td>WC2B 5TB</td>\n",
       "      <td>0.462801</td>\n",
       "    </tr>\n",
       "    <tr>\n",
       "      <th>2</th>\n",
       "      <td>East Central House</td>\n",
       "      <td>£349.00</td>\n",
       "      <td>4.35</td>\n",
       "      <td>EC1V 3RH</td>\n",
       "      <td>1.871750</td>\n",
       "    </tr>\n",
       "    <tr>\n",
       "      <th>4</th>\n",
       "      <td>Camden Hawley Crescent</td>\n",
       "      <td>£554.00</td>\n",
       "      <td>4.23</td>\n",
       "      <td>NW1 8NP</td>\n",
       "      <td>3.430531</td>\n",
       "    </tr>\n",
       "    <tr>\n",
       "      <th>5</th>\n",
       "      <td>Prince Consort Village</td>\n",
       "      <td>£345.00</td>\n",
       "      <td>4.19</td>\n",
       "      <td>W12 9PL</td>\n",
       "      <td>8.655255</td>\n",
       "    </tr>\n",
       "  </tbody>\n",
       "</table>\n",
       "</div>"
      ],
      "text/plain": [
       "                           name    price rating  postcode  walking_distance\n",
       "0  Bloomsbury Janet Poole House  £405.00   4.54  WC1E 6AA          1.489944\n",
       "1               Grosvenor House  £569.00   4.52  WC2B 5TB          0.462801\n",
       "2            East Central House  £349.00   4.35  EC1V 3RH          1.871750\n",
       "4        Camden Hawley Crescent  £554.00   4.23   NW1 8NP          3.430531\n",
       "5        Prince Consort Village  £345.00   4.19   W12 9PL          8.655255"
      ]
     },
     "execution_count": 22,
     "metadata": {},
     "output_type": "execute_result"
    }
   ],
   "source": [
    "#finally remove all the rows that have missing data\n",
    "\n",
    "lse_private_accom_df_semi_clean= lse_private_accom_df_filtered.dropna()\n",
    "lse_private_accom_df_clean = lse_private_accom_df_semi_clean[lse_private_accom_df_semi_clean['price'] != 'Not Found']\n",
    "lse_private_accom_df_clean.head()"
   ]
  },
  {
   "cell_type": "markdown",
   "metadata": {},
   "source": [
    "lse_private_accom_df_clean:\n",
    "* name\n",
    "* price\n",
    "* rating - out of 5, 5 being the highest 0 being the lowest\n",
    "* postcode\n",
    "* walking_distance - in km"
   ]
  },
  {
   "cell_type": "code",
   "execution_count": 23,
   "metadata": {},
   "outputs": [
    {
     "data": {
      "text/plain": [
       "name                0\n",
       "price               0\n",
       "rating              0\n",
       "postcode            0\n",
       "walking_distance    0\n",
       "dtype: int64"
      ]
     },
     "execution_count": 23,
     "metadata": {},
     "output_type": "execute_result"
    }
   ],
   "source": [
    "#checking to see if there is missing data\n",
    "lse_private_accom_df_clean.isna().sum()"
   ]
  },
  {
   "cell_type": "markdown",
   "metadata": {
    "id": "H68Z8IFdNKMe"
   },
   "source": [
    "### Scrape data for Warwick University acommodations\n",
    "\n",
    "* The reason behind scraping warwick is that they offer similar courses to LSE are a top 10 university overall and so are a suitable substitute for LSE, so if a student wants to study at warwick or LSE this comparison of accomodations should allows them to see which is better and help them come to a decision, if LSE and Warwick are fairly matched in terms of accademic ratings https://warwick.ac.uk/services/accommodation/students/ugresidences-2023\n"
   ]
  },
  {
   "cell_type": "code",
   "execution_count": 24,
   "metadata": {
    "id": "SYJP1ojWNHza"
   },
   "outputs": [],
   "source": [
    "#defining and parsing the url using BeautifulSoup and requests\n",
    "url = \"https://warwick.ac.uk/services/accommodation/students/ugresidences-2023\"\n",
    "response = requests.get(url)\n",
    "\n",
    "\n",
    "soup2 = BeautifulSoup(response.text, \"html.parser\")"
   ]
  },
  {
   "cell_type": "code",
   "execution_count": 25,
   "metadata": {
    "id": "AjugtZTSNOZz"
   },
   "outputs": [],
   "source": [
    "#initialise a list to store the data\n",
    "ww_ug_accom_data = []\n",
    "\n",
    "#process to extract bathroom information as well as the prices\n",
    "ul_tags = soup2.find_all(\"ul\", class_=\"fa-ul\")\n",
    "\n",
    "\n",
    "for ul in ul_tags:\n",
    "    for li in ul.find_all(\"li\"):\n",
    "\n",
    "\n",
    "        if \"bathroom\" in li.text.lower():\n",
    "            bathroom = li.text.strip()\n",
    "\n",
    "            if \"en suite\" in bathroom.lower():\n",
    "                bathroom = \"P\"\n",
    "            elif \"shared\" in bathroom.lower():\n",
    "                bathroom = \"S\"\n",
    "            else:\n",
    "                bathroom = \"Unknown\"\n",
    "\n",
    "        if \"£\" in li.text.lower():\n",
    "            raw_price = li.text.strip()\n",
    "            price_string= re.search(r'£(\\d+)', raw_price)\n",
    "            price=int(price_string.group(1))\n",
    "\n",
    "\n",
    "    ww_ug_accom_data.append([bathroom,price])\n",
    "\n",
    "#extracting the names\n",
    "name_links = soup2.find_all(\"a\", class_=\"button-ug\")\n",
    "names = [link.get_text(strip=True) for link in name_links]"
   ]
  },
  {
   "cell_type": "code",
   "execution_count": 26,
   "metadata": {
    "colab": {
     "base_uri": "https://localhost:8080/",
     "height": 488
    },
    "id": "J9r9szILNUCL",
    "outputId": "6edbcce3-8ef4-404d-b8d4-dce2796f39c5"
   },
   "outputs": [
    {
     "data": {
      "text/html": [
       "<div>\n",
       "<style scoped>\n",
       "    .dataframe tbody tr th:only-of-type {\n",
       "        vertical-align: middle;\n",
       "    }\n",
       "\n",
       "    .dataframe tbody tr th {\n",
       "        vertical-align: top;\n",
       "    }\n",
       "\n",
       "    .dataframe thead th {\n",
       "        text-align: right;\n",
       "    }\n",
       "</style>\n",
       "<table border=\"1\" class=\"dataframe\">\n",
       "  <thead>\n",
       "    <tr style=\"text-align: right;\">\n",
       "      <th></th>\n",
       "      <th>bathroom_type</th>\n",
       "      <th>price/week</th>\n",
       "      <th>name</th>\n",
       "    </tr>\n",
       "  </thead>\n",
       "  <tbody>\n",
       "    <tr>\n",
       "      <th>0</th>\n",
       "      <td>P</td>\n",
       "      <td>221</td>\n",
       "      <td>Arthur Vick</td>\n",
       "    </tr>\n",
       "    <tr>\n",
       "      <th>1</th>\n",
       "      <td>P</td>\n",
       "      <td>233</td>\n",
       "      <td>Bluebell</td>\n",
       "    </tr>\n",
       "    <tr>\n",
       "      <th>2</th>\n",
       "      <td>S</td>\n",
       "      <td>162</td>\n",
       "      <td>Claycroft</td>\n",
       "    </tr>\n",
       "    <tr>\n",
       "      <th>3</th>\n",
       "      <td>P</td>\n",
       "      <td>215</td>\n",
       "      <td>Cryfield Apartments</td>\n",
       "    </tr>\n",
       "    <tr>\n",
       "      <th>4</th>\n",
       "      <td>S</td>\n",
       "      <td>117</td>\n",
       "      <td>Cryfield Standard</td>\n",
       "    </tr>\n",
       "  </tbody>\n",
       "</table>\n",
       "</div>"
      ],
      "text/plain": [
       "  bathroom_type  price/week                 name\n",
       "0             P         221          Arthur Vick\n",
       "1             P         233             Bluebell\n",
       "2             S         162            Claycroft\n",
       "3             P         215  Cryfield Apartments\n",
       "4             S         117    Cryfield Standard"
      ]
     },
     "execution_count": 26,
     "metadata": {},
     "output_type": "execute_result"
    }
   ],
   "source": [
    "#putting all the data into a pandas dataframe\n",
    "\n",
    "ww_ug_accom_df= pd.DataFrame(ww_ug_accom_data,columns=[\"bathroom_type\",\"price/week\"])\n",
    "\n",
    "ww_ug_accom_df[\"name\"]=names[:-1]\n",
    "\n",
    "ww_ug_accom_df.head()"
   ]
  },
  {
   "cell_type": "code",
   "execution_count": 27,
   "metadata": {},
   "outputs": [
    {
     "data": {
      "text/plain": [
       "bathroom_type    0\n",
       "price/week       0\n",
       "name             0\n",
       "dtype: int64"
      ]
     },
     "execution_count": 27,
     "metadata": {},
     "output_type": "execute_result"
    }
   ],
   "source": [
    "#checking to see if there is missing data\n",
    "ww_ug_accom_df.isna().sum()"
   ]
  },
  {
   "cell_type": "markdown",
   "metadata": {
    "id": "yohJKJyiNUtL"
   },
   "source": [
    "We've extracted the ug accomodation details, now we will extract the pg accomodation details"
   ]
  },
  {
   "cell_type": "code",
   "execution_count": 28,
   "metadata": {
    "id": "bEOICH25NYWg"
   },
   "outputs": [],
   "source": [
    "#defining and parsing the url using BeautifulSoup and requests\n",
    "url = \"https://warwick.ac.uk/services/accommodation/students/pgresidences-2023\"\n",
    "response = requests.get(url)\n",
    "\n",
    "\n",
    "soup3 = BeautifulSoup(response.text, \"html.parser\")"
   ]
  },
  {
   "cell_type": "code",
   "execution_count": 29,
   "metadata": {
    "id": "63G1UxOTNdLl"
   },
   "outputs": [],
   "source": [
    "\n",
    "#initialise a list to store the data\n",
    "ww_pg_accom_data = []\n",
    "\n",
    "#process to extract bathroom information as well as the prices\n",
    "ul_tags = soup3.find_all(\"ul\", class_=\"fa-ul\")\n",
    "\n",
    "\n",
    "for ul in ul_tags:\n",
    "    for li in ul.find_all(\"li\"):\n",
    "\n",
    "\n",
    "        if \"bathroom\" in li.text.lower():\n",
    "            bathroom = li.text.strip()\n",
    "\n",
    "            if \"en suite\" in bathroom.lower():\n",
    "                bathroom = \"P\"\n",
    "            elif \"shared\" in bathroom.lower():\n",
    "                bathroom = \"S\"\n",
    "            else:\n",
    "                bathroom = \"Unknown\"\n",
    "\n",
    "        if \"£\" in li.text.lower():\n",
    "            raw_price = li.text.strip()\n",
    "            price_string= re.search(r'£(\\d+)', raw_price)\n",
    "            price=int(price_string.group(1))\n",
    "\n",
    "\n",
    "    ww_pg_accom_data.append([bathroom,price])\n",
    "\n",
    "#extracting the names\n",
    "name_links = soup3.find_all(\"a\", class_=\"button-pg\")\n",
    "names = [link.get_text(strip=True) for link in name_links]"
   ]
  },
  {
   "cell_type": "code",
   "execution_count": 30,
   "metadata": {
    "colab": {
     "base_uri": "https://localhost:8080/",
     "height": 426
    },
    "id": "yoL2TmZNNfwr",
    "outputId": "d1f78ced-3714-4791-f422-66916731eb4d"
   },
   "outputs": [
    {
     "data": {
      "text/html": [
       "<div>\n",
       "<style scoped>\n",
       "    .dataframe tbody tr th:only-of-type {\n",
       "        vertical-align: middle;\n",
       "    }\n",
       "\n",
       "    .dataframe tbody tr th {\n",
       "        vertical-align: top;\n",
       "    }\n",
       "\n",
       "    .dataframe thead th {\n",
       "        text-align: right;\n",
       "    }\n",
       "</style>\n",
       "<table border=\"1\" class=\"dataframe\">\n",
       "  <thead>\n",
       "    <tr style=\"text-align: right;\">\n",
       "      <th></th>\n",
       "      <th>bathroom_type</th>\n",
       "      <th>price/week</th>\n",
       "      <th>name</th>\n",
       "    </tr>\n",
       "  </thead>\n",
       "  <tbody>\n",
       "    <tr>\n",
       "      <th>0</th>\n",
       "      <td>P</td>\n",
       "      <td>244</td>\n",
       "      <td>Benefactors</td>\n",
       "    </tr>\n",
       "    <tr>\n",
       "      <th>1</th>\n",
       "      <td>S</td>\n",
       "      <td>162</td>\n",
       "      <td>Claycroft</td>\n",
       "    </tr>\n",
       "    <tr>\n",
       "      <th>2</th>\n",
       "      <td>P</td>\n",
       "      <td>215</td>\n",
       "      <td>Cryfield Apartments</td>\n",
       "    </tr>\n",
       "    <tr>\n",
       "      <th>3</th>\n",
       "      <td>P</td>\n",
       "      <td>260</td>\n",
       "      <td>Cryfield Studios</td>\n",
       "    </tr>\n",
       "    <tr>\n",
       "      <th>4</th>\n",
       "      <td>P</td>\n",
       "      <td>210</td>\n",
       "      <td>Cryfield Townhouses</td>\n",
       "    </tr>\n",
       "  </tbody>\n",
       "</table>\n",
       "</div>"
      ],
      "text/plain": [
       "  bathroom_type  price/week                 name\n",
       "0             P         244          Benefactors\n",
       "1             S         162            Claycroft\n",
       "2             P         215  Cryfield Apartments\n",
       "3             P         260     Cryfield Studios\n",
       "4             P         210  Cryfield Townhouses"
      ]
     },
     "execution_count": 30,
     "metadata": {},
     "output_type": "execute_result"
    }
   ],
   "source": [
    "\n",
    "#putting all the data into a pandas dataframe\n",
    "\n",
    "ww_pg_accom_df= pd.DataFrame(ww_pg_accom_data,columns=[\"bathroom_type\",\"price/week\"])\n",
    "\n",
    "ww_pg_accom_df[\"name\"]=names\n",
    "\n",
    "ww_pg_accom_df.head()"
   ]
  },
  {
   "cell_type": "code",
   "execution_count": 31,
   "metadata": {},
   "outputs": [
    {
     "data": {
      "text/plain": [
       "bathroom_type    0\n",
       "price/week       0\n",
       "name             0\n",
       "dtype: int64"
      ]
     },
     "execution_count": 31,
     "metadata": {},
     "output_type": "execute_result"
    }
   ],
   "source": [
    "#checking to see if there is missing data\n",
    "ww_pg_accom_df.isna().sum()"
   ]
  },
  {
   "cell_type": "markdown",
   "metadata": {},
   "source": [
    "#### Convert dataframes into csv files and create and stored under data folder"
   ]
  },
  {
   "cell_type": "code",
   "execution_count": 32,
   "metadata": {},
   "outputs": [],
   "source": [
    "import os\n",
    "\n",
    "if not os.path.exists('data'):\n",
    "    os.makedirs('data')\n",
    "\n",
    "ww_ug_accom_df.to_csv(\"data/ww_undergrad_accom.csv\", index=False)\n",
    "lse_private_accom_df_clean.to_csv(\"data/lse_private_accom_df_clean.csv\", index=False)\n",
    "ww_pg_accom_df.to_csv(\"data/ww_postgrad_accom.csv\", index=False)\n",
    "df_lse.to_csv('data/df_lse.csv', index=False)\n",
    "df_kings.to_csv('data/df_kings.csv', index=False)\n"
   ]
  }
 ],
 "metadata": {
  "colab": {
   "provenance": []
  },
  "kernelspec": {
   "display_name": "Python 3 (ipykernel)",
   "language": "python",
   "name": "python3"
  },
  "language_info": {
   "codemirror_mode": {
    "name": "ipython",
    "version": 3
   },
   "file_extension": ".py",
   "mimetype": "text/x-python",
   "name": "python",
   "nbconvert_exporter": "python",
   "pygments_lexer": "ipython3",
   "version": "3.9.13"
  }
 },
 "nbformat": 4,
 "nbformat_minor": 1
}
